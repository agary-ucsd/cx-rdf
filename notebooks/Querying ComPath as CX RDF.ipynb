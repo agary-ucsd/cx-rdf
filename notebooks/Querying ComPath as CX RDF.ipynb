{
 "cells": [
  {
   "cell_type": "markdown",
   "metadata": {},
   "source": [
    "This notebook provides a very brief introduction in using the [CX-RDF](https://github.com/cthoyt/cx-rdf) library, which exports CX networks to RDF for querying with SPARQL. This enables multiple networks to be represented together and easily queried (if they have the schema)."
   ]
  },
  {
   "cell_type": "markdown",
   "metadata": {},
   "source": [
    "## Environment"
   ]
  },
  {
   "cell_type": "code",
   "execution_count": 1,
   "metadata": {},
   "outputs": [
    {
     "name": "stderr",
     "output_type": "stream",
     "text": [
      "INFO:rdflib:RDFLib Version: 4.2.1\n"
     ]
    }
   ],
   "source": [
    "# built-in\n",
    "import sys\n",
    "import os\n",
    "import time\n",
    "\n",
    "# third party\n",
    "from cx_rdf import CX, cx_to_rdf_graph\n",
    "import ndex2\n",
    "from ndex2.niceCXNetwork import NiceCXNetwork\n",
    "import pandas as pd"
   ]
  },
  {
   "cell_type": "code",
   "execution_count": 2,
   "metadata": {},
   "outputs": [
    {
     "name": "stdout",
     "output_type": "stream",
     "text": [
      "3.6.5 (default, Jun 17 2018, 12:13:06) \n",
      "[GCC 4.2.1 Compatible Apple LLVM 9.1.0 (clang-902.0.39.2)]\n"
     ]
    }
   ],
   "source": [
    "print(sys.version)"
   ]
  },
  {
   "cell_type": "code",
   "execution_count": 3,
   "metadata": {},
   "outputs": [
    {
     "name": "stdout",
     "output_type": "stream",
     "text": [
      "Tue Jul 24 16:55:43 2018\n"
     ]
    }
   ],
   "source": [
    "print(time.asctime())"
   ]
  },
  {
   "cell_type": "markdown",
   "metadata": {},
   "source": [
    "## Get Data from ComPath\n",
    "\n",
    "ComPath is a resource of curated equivalency and hierarchical mappings between various pathway databases from Domingo-Fernandez, *et al.*, 2018. More information can be found at https://compath.scai.fraunhofer.de and its accompanying manuscript can be viewed on [bioRxiv](https://doi.org/10.1101/353235) while it is under review."
   ]
  },
  {
   "cell_type": "code",
   "execution_count": 4,
   "metadata": {},
   "outputs": [
    {
     "data": {
      "text/html": [
       "<div>\n",
       "<style>\n",
       "    .dataframe thead tr:only-child th {\n",
       "        text-align: right;\n",
       "    }\n",
       "\n",
       "    .dataframe thead th {\n",
       "        text-align: left;\n",
       "    }\n",
       "\n",
       "    .dataframe tbody tr th {\n",
       "        vertical-align: top;\n",
       "    }\n",
       "</style>\n",
       "<table border=\"1\" class=\"dataframe\">\n",
       "  <thead>\n",
       "    <tr style=\"text-align: right;\">\n",
       "      <th></th>\n",
       "      <th>p1.name</th>\n",
       "      <th>p1.id</th>\n",
       "      <th>p1.source</th>\n",
       "      <th>relation</th>\n",
       "      <th>p2.name</th>\n",
       "      <th>p2.id</th>\n",
       "      <th>p2.source</th>\n",
       "    </tr>\n",
       "  </thead>\n",
       "  <tbody>\n",
       "    <tr>\n",
       "      <th>0</th>\n",
       "      <td>AMPK signaling pathway - Homo sapiens (human)</td>\n",
       "      <td>path:hsa04152</td>\n",
       "      <td>kegg</td>\n",
       "      <td>equivalentTo</td>\n",
       "      <td>AMP-activated Protein Kinase (AMPK) Signaling</td>\n",
       "      <td>WP1403</td>\n",
       "      <td>wikipathways</td>\n",
       "    </tr>\n",
       "    <tr>\n",
       "      <th>1</th>\n",
       "      <td>Leptin and adiponectin</td>\n",
       "      <td>WP3934</td>\n",
       "      <td>wikipathways</td>\n",
       "      <td>isPartOf</td>\n",
       "      <td>Adipocytokine signaling pathway - Homo sapiens...</td>\n",
       "      <td>path:hsa04920</td>\n",
       "      <td>kegg</td>\n",
       "    </tr>\n",
       "    <tr>\n",
       "      <th>2</th>\n",
       "      <td>Alanine, aspartate and glutamate metabolism - ...</td>\n",
       "      <td>path:hsa00250</td>\n",
       "      <td>kegg</td>\n",
       "      <td>isPartOf</td>\n",
       "      <td>Amino Acid metabolism</td>\n",
       "      <td>WP3925</td>\n",
       "      <td>wikipathways</td>\n",
       "    </tr>\n",
       "    <tr>\n",
       "      <th>3</th>\n",
       "      <td>Alanine and aspartate metabolism</td>\n",
       "      <td>WP106</td>\n",
       "      <td>wikipathways</td>\n",
       "      <td>isPartOf</td>\n",
       "      <td>Alanine, aspartate and glutamate metabolism - ...</td>\n",
       "      <td>path:hsa00250</td>\n",
       "      <td>kegg</td>\n",
       "    </tr>\n",
       "    <tr>\n",
       "      <th>4</th>\n",
       "      <td>Alcoholism - Homo sapiens (human)</td>\n",
       "      <td>path:hsa05034</td>\n",
       "      <td>kegg</td>\n",
       "      <td>isPartOf</td>\n",
       "      <td>Common Pathways Underlying Drug Addiction</td>\n",
       "      <td>WP2636</td>\n",
       "      <td>wikipathways</td>\n",
       "    </tr>\n",
       "  </tbody>\n",
       "</table>\n",
       "</div>"
      ],
      "text/plain": [
       "                                             p1.name          p1.id  \\\n",
       "0      AMPK signaling pathway - Homo sapiens (human)  path:hsa04152   \n",
       "1                             Leptin and adiponectin         WP3934   \n",
       "2  Alanine, aspartate and glutamate metabolism - ...  path:hsa00250   \n",
       "3                   Alanine and aspartate metabolism          WP106   \n",
       "4                  Alcoholism - Homo sapiens (human)  path:hsa05034   \n",
       "\n",
       "      p1.source      relation  \\\n",
       "0          kegg  equivalentTo   \n",
       "1  wikipathways      isPartOf   \n",
       "2          kegg      isPartOf   \n",
       "3  wikipathways      isPartOf   \n",
       "4          kegg      isPartOf   \n",
       "\n",
       "                                             p2.name          p2.id  \\\n",
       "0      AMP-activated Protein Kinase (AMPK) Signaling         WP1403   \n",
       "1  Adipocytokine signaling pathway - Homo sapiens...  path:hsa04920   \n",
       "2                              Amino Acid metabolism         WP3925   \n",
       "3  Alanine, aspartate and glutamate metabolism - ...  path:hsa00250   \n",
       "4          Common Pathways Underlying Drug Addiction         WP2636   \n",
       "\n",
       "      p2.source  \n",
       "0  wikipathways  \n",
       "1          kegg  \n",
       "2  wikipathways  \n",
       "3          kegg  \n",
       "4  wikipathways  "
      ]
     },
     "execution_count": 4,
     "metadata": {},
     "output_type": "execute_result"
    }
   ],
   "source": [
    "compath_mappings_url = 'https://compath.scai.fraunhofer.de/export_mappings'\n",
    "names = [\n",
    "    'p1.name',\n",
    "    'p1.id',\n",
    "    'p1.source',\n",
    "    'relation',\n",
    "    'p2.name',\n",
    "    'p2.id',\n",
    "    'p2.source',\n",
    "]\n",
    "\n",
    "df = pd.read_csv(compath_mappings_url, sep='\\t', header=0, names=names)\n",
    "df.head()"
   ]
  },
  {
   "cell_type": "markdown",
   "metadata": {},
   "source": [
    "## Conversion to CX\n",
    "\n",
    "The schema of this data can quite simply be converted to CX easily with the ndex2 utility."
   ]
  },
  {
   "cell_type": "code",
   "execution_count": 5,
   "metadata": {},
   "outputs": [],
   "source": [
    "network = ndex2.create_nice_cx_from_pandas(\n",
    "    df, \n",
    "    source_field='p1.id', \n",
    "    source_node_attr=['p1.name', 'p1.source'],\n",
    "    target_field='p2.id',\n",
    "    target_node_attr=['p2.name', 'p2.source'],\n",
    "    edge_interaction='relation',\n",
    ")\n",
    "network.set_name('Pathway Mappings from ComPath')"
   ]
  },
  {
   "cell_type": "code",
   "execution_count": 6,
   "metadata": {},
   "outputs": [
    {
     "data": {
      "text/plain": [
       "'http://public.ndexbio.org/v2/network/a58ffc9c-8f51-11e8-a4bf-0ac135e8bacf'"
      ]
     },
     "execution_count": 6,
     "metadata": {},
     "output_type": "execute_result"
    }
   ],
   "source": [
    "network.upload_to(None, os.environ['NDEX_USERNAME'], os.environ['NDEX_PASSWORD'])"
   ]
  },
  {
   "cell_type": "markdown",
   "metadata": {},
   "source": [
    "## Conversion to RDF\n",
    "\n",
    "While CX is a powerful interchange format, converting to CX allows for querying data that is underlying."
   ]
  },
  {
   "cell_type": "code",
   "execution_count": 7,
   "metadata": {},
   "outputs": [],
   "source": [
    "cx = network.to_cx()"
   ]
  },
  {
   "cell_type": "code",
   "execution_count": 8,
   "metadata": {},
   "outputs": [],
   "source": [
    "rdf = cx_to_rdf_graph(cx)"
   ]
  },
  {
   "cell_type": "markdown",
   "metadata": {},
   "source": [
    "## Querying with SPARQL"
   ]
  },
  {
   "cell_type": "markdown",
   "metadata": {},
   "source": [
    "This dictionary is passed to the RDFLib query function to make prettier queries without writing the prefixes directly in the SPARQL."
   ]
  },
  {
   "cell_type": "code",
   "execution_count": 9,
   "metadata": {},
   "outputs": [],
   "source": [
    "init_ns = {\n",
    "    'cx': CX,\n",
    "}"
   ]
  },
  {
   "cell_type": "markdown",
   "metadata": {},
   "source": [
    "**Query**: Finding the property of a node"
   ]
  },
  {
   "cell_type": "code",
   "execution_count": 10,
   "metadata": {
    "scrolled": true
   },
   "outputs": [
    {
     "data": {
      "text/html": [
       "<div>\n",
       "<style>\n",
       "    .dataframe thead tr:only-child th {\n",
       "        text-align: right;\n",
       "    }\n",
       "\n",
       "    .dataframe thead th {\n",
       "        text-align: left;\n",
       "    }\n",
       "\n",
       "    .dataframe tbody tr th {\n",
       "        vertical-align: top;\n",
       "    }\n",
       "</style>\n",
       "<table border=\"1\" class=\"dataframe\">\n",
       "  <thead>\n",
       "    <tr style=\"text-align: right;\">\n",
       "      <th></th>\n",
       "      <th>0</th>\n",
       "      <th>1</th>\n",
       "    </tr>\n",
       "  </thead>\n",
       "  <tbody>\n",
       "    <tr>\n",
       "      <th>0</th>\n",
       "      <td>path:hsa04060</td>\n",
       "      <td>Cytokine-cytokine receptor interaction - Homo ...</td>\n",
       "    </tr>\n",
       "    <tr>\n",
       "      <th>1</th>\n",
       "      <td>path:hsa04216</td>\n",
       "      <td>Ferroptosis - Homo sapiens (human)</td>\n",
       "    </tr>\n",
       "    <tr>\n",
       "      <th>2</th>\n",
       "      <td>R-HSA-9006936</td>\n",
       "      <td>Signaling by TGF-beta family members</td>\n",
       "    </tr>\n",
       "    <tr>\n",
       "      <th>3</th>\n",
       "      <td>WP3869</td>\n",
       "      <td>Cannabinoid receptor signaling</td>\n",
       "    </tr>\n",
       "    <tr>\n",
       "      <th>4</th>\n",
       "      <td>WP1982</td>\n",
       "      <td>Sterol Regulatory Element-Binding Proteins (SR...</td>\n",
       "    </tr>\n",
       "  </tbody>\n",
       "</table>\n",
       "</div>"
      ],
      "text/plain": [
       "               0                                                  1\n",
       "0  path:hsa04060  Cytokine-cytokine receptor interaction - Homo ...\n",
       "1  path:hsa04216                 Ferroptosis - Homo sapiens (human)\n",
       "2  R-HSA-9006936               Signaling by TGF-beta family members\n",
       "3         WP3869                     Cannabinoid receptor signaling\n",
       "4         WP1982  Sterol Regulatory Element-Binding Proteins (SR..."
      ]
     },
     "execution_count": 10,
     "metadata": {},
     "output_type": "execute_result"
    }
   ],
   "source": [
    "query = \"\"\"\n",
    "SELECT ?label ?name\n",
    "WHERE {\n",
    "    ?node a cx:node .\n",
    "    ?node rdfs:label ?label .\n",
    "    ?node cx:node_has_attribute ?name_attribute .\n",
    "    ?name_attribute cx:attribute_has_name \"p2.name\" .\n",
    "    ?name_attribute cx:attribute_has_value ?name .\n",
    "}\n",
    "LIMIT 5\n",
    "\"\"\"\n",
    "\n",
    "result = rdf.query(query, initNs=init_ns)\n",
    "pd.DataFrame(list(result))"
   ]
  },
  {
   "cell_type": "markdown",
   "metadata": {},
   "source": [
    "**Query**: Finding multiple properties"
   ]
  },
  {
   "cell_type": "code",
   "execution_count": 11,
   "metadata": {},
   "outputs": [
    {
     "data": {
      "text/html": [
       "<div>\n",
       "<style>\n",
       "    .dataframe thead tr:only-child th {\n",
       "        text-align: right;\n",
       "    }\n",
       "\n",
       "    .dataframe thead th {\n",
       "        text-align: left;\n",
       "    }\n",
       "\n",
       "    .dataframe tbody tr th {\n",
       "        vertical-align: top;\n",
       "    }\n",
       "</style>\n",
       "<table border=\"1\" class=\"dataframe\">\n",
       "  <thead>\n",
       "    <tr style=\"text-align: right;\">\n",
       "      <th></th>\n",
       "      <th>0</th>\n",
       "      <th>1</th>\n",
       "      <th>2</th>\n",
       "    </tr>\n",
       "  </thead>\n",
       "  <tbody>\n",
       "    <tr>\n",
       "      <th>0</th>\n",
       "      <td>R-HSA-212436</td>\n",
       "      <td>Generic Transcription Pathway</td>\n",
       "      <td>reactome</td>\n",
       "    </tr>\n",
       "    <tr>\n",
       "      <th>1</th>\n",
       "      <td>R-HSA-163359</td>\n",
       "      <td>Glucagon signaling in metabolic regulation</td>\n",
       "      <td>reactome</td>\n",
       "    </tr>\n",
       "    <tr>\n",
       "      <th>2</th>\n",
       "      <td>R-HSA-72613</td>\n",
       "      <td>Eukaryotic Translation Initiation</td>\n",
       "      <td>reactome</td>\n",
       "    </tr>\n",
       "    <tr>\n",
       "      <th>3</th>\n",
       "      <td>WP167</td>\n",
       "      <td>Eicosanoid Synthesis</td>\n",
       "      <td>wikipathways</td>\n",
       "    </tr>\n",
       "    <tr>\n",
       "      <th>4</th>\n",
       "      <td>R-HSA-71403</td>\n",
       "      <td>Citric acid cycle (TCA cycle)</td>\n",
       "      <td>reactome</td>\n",
       "    </tr>\n",
       "  </tbody>\n",
       "</table>\n",
       "</div>"
      ],
      "text/plain": [
       "              0                                           1             2\n",
       "0  R-HSA-212436               Generic Transcription Pathway      reactome\n",
       "1  R-HSA-163359  Glucagon signaling in metabolic regulation      reactome\n",
       "2   R-HSA-72613           Eukaryotic Translation Initiation      reactome\n",
       "3         WP167                        Eicosanoid Synthesis  wikipathways\n",
       "4   R-HSA-71403               Citric acid cycle (TCA cycle)      reactome"
      ]
     },
     "execution_count": 11,
     "metadata": {},
     "output_type": "execute_result"
    }
   ],
   "source": [
    "query = \"\"\"\n",
    "SELECT ?label ?name ?source\n",
    "WHERE {\n",
    "    ?node a cx:node .\n",
    "    ?node rdfs:label ?label .\n",
    "\n",
    "    ?node cx:node_has_attribute ?name_attribute .\n",
    "    ?name_attribute cx:attribute_has_name \"p2.name\" .\n",
    "    ?name_attribute cx:attribute_has_value ?name .\n",
    "\n",
    "    ?node cx:node_has_attribute ?source_attribute .\n",
    "    ?source_attribute cx:attribute_has_name \"p2.source\" .\n",
    "    ?source_attribute cx:attribute_has_value ?source .\n",
    "}\n",
    "LIMIT 5\n",
    "\"\"\"\n",
    "\n",
    "result = rdf.query(query, initNs=init_ns)\n",
    "pd.DataFrame(list(result))"
   ]
  },
  {
   "cell_type": "markdown",
   "metadata": {},
   "source": [
    "**Query**: reconstituting relationships from RDF"
   ]
  },
  {
   "cell_type": "code",
   "execution_count": 12,
   "metadata": {},
   "outputs": [
    {
     "data": {
      "text/html": [
       "<div>\n",
       "<style>\n",
       "    .dataframe thead tr:only-child th {\n",
       "        text-align: right;\n",
       "    }\n",
       "\n",
       "    .dataframe thead th {\n",
       "        text-align: left;\n",
       "    }\n",
       "\n",
       "    .dataframe tbody tr th {\n",
       "        vertical-align: top;\n",
       "    }\n",
       "</style>\n",
       "<table border=\"1\" class=\"dataframe\">\n",
       "  <thead>\n",
       "    <tr style=\"text-align: right;\">\n",
       "      <th></th>\n",
       "      <th>0</th>\n",
       "      <th>1</th>\n",
       "      <th>2</th>\n",
       "    </tr>\n",
       "  </thead>\n",
       "  <tbody>\n",
       "    <tr>\n",
       "      <th>0</th>\n",
       "      <td>R-HSA-168142</td>\n",
       "      <td>isPartOf</td>\n",
       "      <td>path:hsa04620</td>\n",
       "    </tr>\n",
       "    <tr>\n",
       "      <th>1</th>\n",
       "      <td>R-HSA-2559580</td>\n",
       "      <td>isPartOf</td>\n",
       "      <td>WP408</td>\n",
       "    </tr>\n",
       "    <tr>\n",
       "      <th>2</th>\n",
       "      <td>path:hsa00072</td>\n",
       "      <td>equivalentTo</td>\n",
       "      <td>R-HSA-74182</td>\n",
       "    </tr>\n",
       "    <tr>\n",
       "      <th>3</th>\n",
       "      <td>path:hsa00072</td>\n",
       "      <td>equivalentTo</td>\n",
       "      <td>WP311</td>\n",
       "    </tr>\n",
       "    <tr>\n",
       "      <th>4</th>\n",
       "      <td>path:hsa00072</td>\n",
       "      <td>isPartOf</td>\n",
       "      <td>R-HSA-1430728</td>\n",
       "    </tr>\n",
       "  </tbody>\n",
       "</table>\n",
       "</div>"
      ],
      "text/plain": [
       "               0             1              2\n",
       "0   R-HSA-168142      isPartOf  path:hsa04620\n",
       "1  R-HSA-2559580      isPartOf          WP408\n",
       "2  path:hsa00072  equivalentTo    R-HSA-74182\n",
       "3  path:hsa00072  equivalentTo          WP311\n",
       "4  path:hsa00072      isPartOf  R-HSA-1430728"
      ]
     },
     "execution_count": 12,
     "metadata": {},
     "output_type": "execute_result"
    }
   ],
   "source": [
    "query = \"\"\"\n",
    "SELECT ?a_label ?b_label ?c_label\n",
    "WHERE {\n",
    "    ?a ?b ?c .\n",
    "    ?a a cx:node .\n",
    "    ?c a cx:node .\n",
    "    ?a rdfs:label ?a_label .\n",
    "    ?b cx:edge_has_interaction ?b_label .\n",
    "    ?c rdfs:label ?c_label .\n",
    "}\n",
    "LIMIT 5\n",
    "\"\"\"\n",
    "\n",
    "result = rdf.query(query, initNs=init_ns)\n",
    "pd.DataFrame(list(result))"
   ]
  },
  {
   "cell_type": "markdown",
   "metadata": {},
   "source": [
    "Find all subpathways for the KEGG pathway: Pathways in cancer - Homo sapiens (human) (path:hsa05200)."
   ]
  },
  {
   "cell_type": "code",
   "execution_count": 41,
   "metadata": {},
   "outputs": [
    {
     "data": {
      "text/html": [
       "<div>\n",
       "<style>\n",
       "    .dataframe thead tr:only-child th {\n",
       "        text-align: right;\n",
       "    }\n",
       "\n",
       "    .dataframe thead th {\n",
       "        text-align: left;\n",
       "    }\n",
       "\n",
       "    .dataframe tbody tr th {\n",
       "        vertical-align: top;\n",
       "    }\n",
       "</style>\n",
       "<table border=\"1\" class=\"dataframe\">\n",
       "  <thead>\n",
       "    <tr style=\"text-align: right;\">\n",
       "      <th></th>\n",
       "      <th>0</th>\n",
       "    </tr>\n",
       "  </thead>\n",
       "  <tbody>\n",
       "    <tr>\n",
       "      <th>0</th>\n",
       "      <td>WP2828</td>\n",
       "    </tr>\n",
       "    <tr>\n",
       "      <th>1</th>\n",
       "      <td>R-HSA-211163</td>\n",
       "    </tr>\n",
       "    <tr>\n",
       "      <th>2</th>\n",
       "      <td>R-HSA-111461</td>\n",
       "    </tr>\n",
       "    <tr>\n",
       "      <th>3</th>\n",
       "      <td>WP1971</td>\n",
       "    </tr>\n",
       "    <tr>\n",
       "      <th>4</th>\n",
       "      <td>R-HSA-111452</td>\n",
       "    </tr>\n",
       "    <tr>\n",
       "      <th>5</th>\n",
       "      <td>R-HSA-2033519</td>\n",
       "    </tr>\n",
       "    <tr>\n",
       "      <th>6</th>\n",
       "      <td>R-HSA-1169092</td>\n",
       "    </tr>\n",
       "    <tr>\n",
       "      <th>7</th>\n",
       "      <td>R-HSA-5632928</td>\n",
       "    </tr>\n",
       "    <tr>\n",
       "      <th>8</th>\n",
       "      <td>WP2261</td>\n",
       "    </tr>\n",
       "    <tr>\n",
       "      <th>9</th>\n",
       "      <td>R-HSA-5632927</td>\n",
       "    </tr>\n",
       "  </tbody>\n",
       "</table>\n",
       "</div>"
      ],
      "text/plain": [
       "               0\n",
       "0         WP2828\n",
       "1   R-HSA-211163\n",
       "2   R-HSA-111461\n",
       "3         WP1971\n",
       "4   R-HSA-111452\n",
       "5  R-HSA-2033519\n",
       "6  R-HSA-1169092\n",
       "7  R-HSA-5632928\n",
       "8         WP2261\n",
       "9  R-HSA-5632927"
      ]
     },
     "execution_count": 41,
     "metadata": {},
     "output_type": "execute_result"
    }
   ],
   "source": [
    "query = \"\"\"\n",
    "\n",
    "SELECT ?s_label\n",
    "WHERE {\n",
    "    ?node a cx:node ; \n",
    "        rdfs:label \"path:hsa05200\" .\n",
    "    \n",
    "    ?s ?p ?node .\n",
    "    ?p cx:edge_has_interaction \"isPartOf\" .\n",
    "    \n",
    "    ?s rdfs:label ?s_label   \n",
    "}\n",
    "\"\"\"\n",
    "\n",
    "result = rdf.query(query, initNs=init_ns)\n",
    "pd.DataFrame(list(result))"
   ]
  }
 ],
 "metadata": {
  "kernelspec": {
   "display_name": "Python 3",
   "language": "python",
   "name": "python3"
  },
  "language_info": {
   "codemirror_mode": {
    "name": "ipython",
    "version": 3
   },
   "file_extension": ".py",
   "mimetype": "text/x-python",
   "name": "python",
   "nbconvert_exporter": "python",
   "pygments_lexer": "ipython3",
   "version": "3.6.5"
  }
 },
 "nbformat": 4,
 "nbformat_minor": 2
}
