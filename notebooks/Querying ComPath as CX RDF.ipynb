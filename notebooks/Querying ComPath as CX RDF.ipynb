{
 "cells": [
  {
   "cell_type": "markdown",
   "metadata": {},
   "source": [
    "# Querying ComPath with CX RDF\n",
    "\n",
    "This notebook provides a very brief introduction in using the [CX-RDF](https://github.com/cthoyt/cx-rdf) library, which exports CX networks to RDF for querying with SPARQL. This enables multiple networks to be represented together and easily queried (if they have the schema)."
   ]
  },
  {
   "cell_type": "markdown",
   "metadata": {},
   "source": [
    "## Environment"
   ]
  },
  {
   "cell_type": "code",
   "execution_count": 1,
   "metadata": {},
   "outputs": [
    {
     "name": "stderr",
     "output_type": "stream",
     "text": [
      "INFO:rdflib:RDFLib Version: 4.2.1\n"
     ]
    }
   ],
   "source": [
    "# built-in\n",
    "import sys\n",
    "import os\n",
    "import time\n",
    "\n",
    "# third party\n",
    "from cx_rdf import CX, cx_to_rdf_graph\n",
    "import ndex2\n",
    "from ndex2.niceCXNetwork import NiceCXNetwork\n",
    "import pandas as pd"
   ]
  },
  {
   "cell_type": "code",
   "execution_count": 2,
   "metadata": {},
   "outputs": [
    {
     "name": "stdout",
     "output_type": "stream",
     "text": [
      "3.6.5 (default, Jun 17 2018, 12:13:06) \n",
      "[GCC 4.2.1 Compatible Apple LLVM 9.1.0 (clang-902.0.39.2)]\n"
     ]
    }
   ],
   "source": [
    "print(sys.version)"
   ]
  },
  {
   "cell_type": "code",
   "execution_count": 3,
   "metadata": {},
   "outputs": [
    {
     "name": "stdout",
     "output_type": "stream",
     "text": [
      "Wed Jul 25 10:48:17 2018\n"
     ]
    }
   ],
   "source": [
    "print(time.asctime())"
   ]
  },
  {
   "cell_type": "markdown",
   "metadata": {},
   "source": [
    "## Get Data from ComPath\n",
    "\n",
    "ComPath is a resource of curated equivalency and hierarchical mappings between various pathway databases from Domingo-Fernandez, *et al.*, 2018. More information can be found at https://compath.scai.fraunhofer.de and its accompanying manuscript can be viewed on [bioRxiv](https://doi.org/10.1101/353235) while it is under review."
   ]
  },
  {
   "cell_type": "code",
   "execution_count": 4,
   "metadata": {},
   "outputs": [
    {
     "data": {
      "text/html": [
       "<div>\n",
       "<style>\n",
       "    .dataframe thead tr:only-child th {\n",
       "        text-align: right;\n",
       "    }\n",
       "\n",
       "    .dataframe thead th {\n",
       "        text-align: left;\n",
       "    }\n",
       "\n",
       "    .dataframe tbody tr th {\n",
       "        vertical-align: top;\n",
       "    }\n",
       "</style>\n",
       "<table border=\"1\" class=\"dataframe\">\n",
       "  <thead>\n",
       "    <tr style=\"text-align: right;\">\n",
       "      <th></th>\n",
       "      <th>p1.name</th>\n",
       "      <th>p1.id</th>\n",
       "      <th>p1.source</th>\n",
       "      <th>relation</th>\n",
       "      <th>p2.name</th>\n",
       "      <th>p2.id</th>\n",
       "      <th>p2.source</th>\n",
       "    </tr>\n",
       "  </thead>\n",
       "  <tbody>\n",
       "    <tr>\n",
       "      <th>0</th>\n",
       "      <td>AMPK signaling pathway - Homo sapiens (human)</td>\n",
       "      <td>path:hsa04152</td>\n",
       "      <td>kegg</td>\n",
       "      <td>equivalentTo</td>\n",
       "      <td>AMP-activated Protein Kinase (AMPK) Signaling</td>\n",
       "      <td>WP1403</td>\n",
       "      <td>wikipathways</td>\n",
       "    </tr>\n",
       "    <tr>\n",
       "      <th>1</th>\n",
       "      <td>Leptin and adiponectin</td>\n",
       "      <td>WP3934</td>\n",
       "      <td>wikipathways</td>\n",
       "      <td>isPartOf</td>\n",
       "      <td>Adipocytokine signaling pathway - Homo sapiens...</td>\n",
       "      <td>path:hsa04920</td>\n",
       "      <td>kegg</td>\n",
       "    </tr>\n",
       "    <tr>\n",
       "      <th>2</th>\n",
       "      <td>Alanine, aspartate and glutamate metabolism - ...</td>\n",
       "      <td>path:hsa00250</td>\n",
       "      <td>kegg</td>\n",
       "      <td>isPartOf</td>\n",
       "      <td>Amino Acid metabolism</td>\n",
       "      <td>WP3925</td>\n",
       "      <td>wikipathways</td>\n",
       "    </tr>\n",
       "    <tr>\n",
       "      <th>3</th>\n",
       "      <td>Alanine and aspartate metabolism</td>\n",
       "      <td>WP106</td>\n",
       "      <td>wikipathways</td>\n",
       "      <td>isPartOf</td>\n",
       "      <td>Alanine, aspartate and glutamate metabolism - ...</td>\n",
       "      <td>path:hsa00250</td>\n",
       "      <td>kegg</td>\n",
       "    </tr>\n",
       "    <tr>\n",
       "      <th>4</th>\n",
       "      <td>Alcoholism - Homo sapiens (human)</td>\n",
       "      <td>path:hsa05034</td>\n",
       "      <td>kegg</td>\n",
       "      <td>isPartOf</td>\n",
       "      <td>Common Pathways Underlying Drug Addiction</td>\n",
       "      <td>WP2636</td>\n",
       "      <td>wikipathways</td>\n",
       "    </tr>\n",
       "  </tbody>\n",
       "</table>\n",
       "</div>"
      ],
      "text/plain": [
       "                                             p1.name          p1.id  \\\n",
       "0      AMPK signaling pathway - Homo sapiens (human)  path:hsa04152   \n",
       "1                             Leptin and adiponectin         WP3934   \n",
       "2  Alanine, aspartate and glutamate metabolism - ...  path:hsa00250   \n",
       "3                   Alanine and aspartate metabolism          WP106   \n",
       "4                  Alcoholism - Homo sapiens (human)  path:hsa05034   \n",
       "\n",
       "      p1.source      relation  \\\n",
       "0          kegg  equivalentTo   \n",
       "1  wikipathways      isPartOf   \n",
       "2          kegg      isPartOf   \n",
       "3  wikipathways      isPartOf   \n",
       "4          kegg      isPartOf   \n",
       "\n",
       "                                             p2.name          p2.id  \\\n",
       "0      AMP-activated Protein Kinase (AMPK) Signaling         WP1403   \n",
       "1  Adipocytokine signaling pathway - Homo sapiens...  path:hsa04920   \n",
       "2                              Amino Acid metabolism         WP3925   \n",
       "3  Alanine, aspartate and glutamate metabolism - ...  path:hsa00250   \n",
       "4          Common Pathways Underlying Drug Addiction         WP2636   \n",
       "\n",
       "      p2.source  \n",
       "0  wikipathways  \n",
       "1          kegg  \n",
       "2  wikipathways  \n",
       "3          kegg  \n",
       "4  wikipathways  "
      ]
     },
     "execution_count": 4,
     "metadata": {},
     "output_type": "execute_result"
    }
   ],
   "source": [
    "compath_mappings_url = 'https://compath.scai.fraunhofer.de/export_mappings'\n",
    "names = [\n",
    "    'p1.name',\n",
    "    'p1.id',\n",
    "    'p1.source',\n",
    "    'relation',\n",
    "    'p2.name',\n",
    "    'p2.id',\n",
    "    'p2.source',\n",
    "]\n",
    "\n",
    "df = pd.read_csv(compath_mappings_url, sep='\\t', header=0, names=names)\n",
    "df.head()"
   ]
  },
  {
   "cell_type": "markdown",
   "metadata": {},
   "source": [
    "## Conversion to CX\n",
    "\n",
    "The schema of this data can quite simply be converted to CX easily with the ndex2 utility."
   ]
  },
  {
   "cell_type": "code",
   "execution_count": 5,
   "metadata": {},
   "outputs": [],
   "source": [
    "network = ndex2.create_nice_cx_from_pandas(\n",
    "    df, \n",
    "    source_field='p1.id', \n",
    "    source_node_attr=['p1.name', 'p1.source'],\n",
    "    target_field='p2.id',\n",
    "    target_node_attr=['p2.name', 'p2.source'],\n",
    "    edge_interaction='relation',\n",
    ")\n",
    "network.set_name('Pathway Mappings from ComPath')"
   ]
  },
  {
   "cell_type": "code",
   "execution_count": 6,
   "metadata": {},
   "outputs": [
    {
     "data": {
      "text/plain": [
       "'http://public.ndexbio.org/v2/network/7bef0760-8fe7-11e8-a4bf-0ac135e8bacf'"
      ]
     },
     "execution_count": 6,
     "metadata": {},
     "output_type": "execute_result"
    }
   ],
   "source": [
    "network.upload_to(None, os.environ['NDEX_USERNAME'], os.environ['NDEX_PASSWORD'])"
   ]
  },
  {
   "cell_type": "markdown",
   "metadata": {},
   "source": [
    "## Conversion to RDF\n",
    "\n",
    "While CX is a powerful interchange format, converting to CX allows for querying data that is underlying."
   ]
  },
  {
   "cell_type": "code",
   "execution_count": 7,
   "metadata": {},
   "outputs": [],
   "source": [
    "cx = network.to_cx()"
   ]
  },
  {
   "cell_type": "code",
   "execution_count": 8,
   "metadata": {},
   "outputs": [
    {
     "name": "stdout",
     "output_type": "stream",
     "text": [
      "Serialization resulted in 23833 triples\n"
     ]
    }
   ],
   "source": [
    "rdf = cx_to_rdf_graph(cx)\n",
    "\n",
    "print(f'Serialization resulted in {len(rdf)} triples')"
   ]
  },
  {
   "cell_type": "markdown",
   "metadata": {},
   "source": [
    "## Querying with SPARQL"
   ]
  },
  {
   "cell_type": "markdown",
   "metadata": {},
   "source": [
    "This dictionary is passed to the RDFLib query function to make prettier queries without writing the prefixes directly in the SPARQL."
   ]
  },
  {
   "cell_type": "code",
   "execution_count": 9,
   "metadata": {},
   "outputs": [],
   "source": [
    "init_ns = {\n",
    "    'cx': CX,\n",
    "}"
   ]
  },
  {
   "cell_type": "markdown",
   "metadata": {},
   "source": [
    "### Finding the property of a node"
   ]
  },
  {
   "cell_type": "code",
   "execution_count": 15,
   "metadata": {
    "scrolled": true
   },
   "outputs": [
    {
     "data": {
      "text/html": [
       "<div>\n",
       "<style>\n",
       "    .dataframe thead tr:only-child th {\n",
       "        text-align: right;\n",
       "    }\n",
       "\n",
       "    .dataframe thead th {\n",
       "        text-align: left;\n",
       "    }\n",
       "\n",
       "    .dataframe tbody tr th {\n",
       "        vertical-align: top;\n",
       "    }\n",
       "</style>\n",
       "<table border=\"1\" class=\"dataframe\">\n",
       "  <thead>\n",
       "    <tr style=\"text-align: right;\">\n",
       "      <th></th>\n",
       "      <th>Identifier</th>\n",
       "      <th>Label</th>\n",
       "    </tr>\n",
       "  </thead>\n",
       "  <tbody>\n",
       "    <tr>\n",
       "      <th>0</th>\n",
       "      <td>path:hsa03010</td>\n",
       "      <td>Ribosome - Homo sapiens (human)</td>\n",
       "    </tr>\n",
       "    <tr>\n",
       "      <th>1</th>\n",
       "      <td>path:hsa04080</td>\n",
       "      <td>Neuroactive ligand-receptor interaction - Homo...</td>\n",
       "    </tr>\n",
       "    <tr>\n",
       "      <th>2</th>\n",
       "      <td>R-HSA-392499</td>\n",
       "      <td>Metabolism of proteins</td>\n",
       "    </tr>\n",
       "    <tr>\n",
       "      <th>3</th>\n",
       "      <td>R-HSA-5693548</td>\n",
       "      <td>Sensing of DNA Double Strand Breaks</td>\n",
       "    </tr>\n",
       "    <tr>\n",
       "      <th>4</th>\n",
       "      <td>WP357</td>\n",
       "      <td>Fatty Acid Biosynthesis</td>\n",
       "    </tr>\n",
       "  </tbody>\n",
       "</table>\n",
       "</div>"
      ],
      "text/plain": [
       "      Identifier                                              Label\n",
       "0  path:hsa03010                    Ribosome - Homo sapiens (human)\n",
       "1  path:hsa04080  Neuroactive ligand-receptor interaction - Homo...\n",
       "2   R-HSA-392499                             Metabolism of proteins\n",
       "3  R-HSA-5693548                Sensing of DNA Double Strand Breaks\n",
       "4          WP357                            Fatty Acid Biosynthesis"
      ]
     },
     "execution_count": 15,
     "metadata": {},
     "output_type": "execute_result"
    }
   ],
   "source": [
    "query = \"\"\"\n",
    "SELECT ?label ?name\n",
    "WHERE {\n",
    "    ?node a cx:node .\n",
    "    ?node rdfs:label ?label .\n",
    "    ?node cx:node_has_attribute ?name_attribute .\n",
    "    ?name_attribute cx:attribute_has_name \"p2.name\" .\n",
    "    ?name_attribute cx:attribute_has_value ?name .\n",
    "}\n",
    "LIMIT 5\n",
    "\"\"\"\n",
    "\n",
    "result = rdf.query(query, initNs=init_ns)\n",
    "pd.DataFrame(list(result), columns=['Identifier', 'Label'])"
   ]
  },
  {
   "cell_type": "markdown",
   "metadata": {},
   "source": [
    "### Finding multiple properties of a node concurrently"
   ]
  },
  {
   "cell_type": "code",
   "execution_count": 14,
   "metadata": {},
   "outputs": [
    {
     "data": {
      "text/html": [
       "<div>\n",
       "<style>\n",
       "    .dataframe thead tr:only-child th {\n",
       "        text-align: right;\n",
       "    }\n",
       "\n",
       "    .dataframe thead th {\n",
       "        text-align: left;\n",
       "    }\n",
       "\n",
       "    .dataframe tbody tr th {\n",
       "        vertical-align: top;\n",
       "    }\n",
       "</style>\n",
       "<table border=\"1\" class=\"dataframe\">\n",
       "  <thead>\n",
       "    <tr style=\"text-align: right;\">\n",
       "      <th></th>\n",
       "      <th>Database</th>\n",
       "      <th>Identifier</th>\n",
       "      <th>Label</th>\n",
       "    </tr>\n",
       "  </thead>\n",
       "  <tbody>\n",
       "    <tr>\n",
       "      <th>0</th>\n",
       "      <td>kegg</td>\n",
       "      <td>path:hsa00532</td>\n",
       "      <td>Glycosaminoglycan biosynthesis - chondroitin s...</td>\n",
       "    </tr>\n",
       "    <tr>\n",
       "      <th>1</th>\n",
       "      <td>kegg</td>\n",
       "      <td>path:hsa01230</td>\n",
       "      <td>Biosynthesis of amino acids - Homo sapiens (hu...</td>\n",
       "    </tr>\n",
       "    <tr>\n",
       "      <th>2</th>\n",
       "      <td>reactome</td>\n",
       "      <td>R-HSA-71182</td>\n",
       "      <td>Phenylalanine and tyrosine catabolism</td>\n",
       "    </tr>\n",
       "    <tr>\n",
       "      <th>3</th>\n",
       "      <td>kegg</td>\n",
       "      <td>path:hsa04710</td>\n",
       "      <td>Circadian rhythm - Homo sapiens (human)</td>\n",
       "    </tr>\n",
       "    <tr>\n",
       "      <th>4</th>\n",
       "      <td>wikipathways</td>\n",
       "      <td>WP23</td>\n",
       "      <td>B Cell Receptor Signaling Pathway</td>\n",
       "    </tr>\n",
       "  </tbody>\n",
       "</table>\n",
       "</div>"
      ],
      "text/plain": [
       "       Database     Identifier  \\\n",
       "0          kegg  path:hsa00532   \n",
       "1          kegg  path:hsa01230   \n",
       "2      reactome    R-HSA-71182   \n",
       "3          kegg  path:hsa04710   \n",
       "4  wikipathways           WP23   \n",
       "\n",
       "                                               Label  \n",
       "0  Glycosaminoglycan biosynthesis - chondroitin s...  \n",
       "1  Biosynthesis of amino acids - Homo sapiens (hu...  \n",
       "2              Phenylalanine and tyrosine catabolism  \n",
       "3            Circadian rhythm - Homo sapiens (human)  \n",
       "4                  B Cell Receptor Signaling Pathway  "
      ]
     },
     "execution_count": 14,
     "metadata": {},
     "output_type": "execute_result"
    }
   ],
   "source": [
    "query = \"\"\"\n",
    "SELECT ?source ?label ?name \n",
    "WHERE {\n",
    "    ?node a cx:node .\n",
    "    ?node rdfs:label ?label .\n",
    "\n",
    "    ?node cx:node_has_attribute ?name_attribute .\n",
    "    ?name_attribute cx:attribute_has_name \"p2.name\" .\n",
    "    ?name_attribute cx:attribute_has_value ?name .\n",
    "\n",
    "    ?node cx:node_has_attribute ?source_attribute .\n",
    "    ?source_attribute cx:attribute_has_name \"p2.source\" .\n",
    "    ?source_attribute cx:attribute_has_value ?source .\n",
    "}\n",
    "LIMIT 5\n",
    "\"\"\"\n",
    "\n",
    "result = rdf.query(query, initNs=init_ns)\n",
    "pd.DataFrame(list(result), columns=['Database', 'Identifier', 'Label'])"
   ]
  },
  {
   "cell_type": "markdown",
   "metadata": {},
   "source": [
    "###  Reconstituting relationships from RDF"
   ]
  },
  {
   "cell_type": "code",
   "execution_count": 16,
   "metadata": {},
   "outputs": [
    {
     "data": {
      "text/html": [
       "<div>\n",
       "<style>\n",
       "    .dataframe thead tr:only-child th {\n",
       "        text-align: right;\n",
       "    }\n",
       "\n",
       "    .dataframe thead th {\n",
       "        text-align: left;\n",
       "    }\n",
       "\n",
       "    .dataframe tbody tr th {\n",
       "        vertical-align: top;\n",
       "    }\n",
       "</style>\n",
       "<table border=\"1\" class=\"dataframe\">\n",
       "  <thead>\n",
       "    <tr style=\"text-align: right;\">\n",
       "      <th></th>\n",
       "      <th>Source</th>\n",
       "      <th>Relation</th>\n",
       "      <th>Target</th>\n",
       "    </tr>\n",
       "  </thead>\n",
       "  <tbody>\n",
       "    <tr>\n",
       "      <th>0</th>\n",
       "      <td>R-HSA-8941284</td>\n",
       "      <td>isPartOf</td>\n",
       "      <td>WP474</td>\n",
       "    </tr>\n",
       "    <tr>\n",
       "      <th>1</th>\n",
       "      <td>R-HSA-5689880</td>\n",
       "      <td>isPartOf</td>\n",
       "      <td>path:hsa03050</td>\n",
       "    </tr>\n",
       "    <tr>\n",
       "      <th>2</th>\n",
       "      <td>path:hsa00532</td>\n",
       "      <td>isPartOf</td>\n",
       "      <td>R-HSA-1430728</td>\n",
       "    </tr>\n",
       "    <tr>\n",
       "      <th>3</th>\n",
       "      <td>path:hsa01230</td>\n",
       "      <td>isPartOf</td>\n",
       "      <td>R-HSA-1430728</td>\n",
       "    </tr>\n",
       "    <tr>\n",
       "      <th>4</th>\n",
       "      <td>path:hsa01230</td>\n",
       "      <td>isPartOf</td>\n",
       "      <td>R-HSA-71291</td>\n",
       "    </tr>\n",
       "  </tbody>\n",
       "</table>\n",
       "</div>"
      ],
      "text/plain": [
       "          Source  Relation         Target\n",
       "0  R-HSA-8941284  isPartOf          WP474\n",
       "1  R-HSA-5689880  isPartOf  path:hsa03050\n",
       "2  path:hsa00532  isPartOf  R-HSA-1430728\n",
       "3  path:hsa01230  isPartOf  R-HSA-1430728\n",
       "4  path:hsa01230  isPartOf    R-HSA-71291"
      ]
     },
     "execution_count": 16,
     "metadata": {},
     "output_type": "execute_result"
    }
   ],
   "source": [
    "query = \"\"\"\n",
    "SELECT ?a_label ?b_label ?c_label\n",
    "WHERE {\n",
    "    ?a ?b ?c .\n",
    "    ?a a cx:node .\n",
    "    ?c a cx:node .\n",
    "    ?a rdfs:label ?a_label .\n",
    "    ?b cx:edge_has_interaction ?b_label .\n",
    "    ?c rdfs:label ?c_label .\n",
    "}\n",
    "LIMIT 5\n",
    "\"\"\"\n",
    "\n",
    "result = rdf.query(query, initNs=init_ns)\n",
    "pd.DataFrame(list(result), columns=['Source', 'Relation', 'Target'])"
   ]
  },
  {
   "cell_type": "markdown",
   "metadata": {},
   "source": [
    "### Find all subpathways for a KEGG pathway\n",
    "\n",
    "\n",
    "This query focuses on path:hsa05200: \"Pathways in cancer - Homo sapiens (human)\"."
   ]
  },
  {
   "cell_type": "code",
   "execution_count": 17,
   "metadata": {},
   "outputs": [
    {
     "data": {
      "text/html": [
       "<div>\n",
       "<style>\n",
       "    .dataframe thead tr:only-child th {\n",
       "        text-align: right;\n",
       "    }\n",
       "\n",
       "    .dataframe thead th {\n",
       "        text-align: left;\n",
       "    }\n",
       "\n",
       "    .dataframe tbody tr th {\n",
       "        vertical-align: top;\n",
       "    }\n",
       "</style>\n",
       "<table border=\"1\" class=\"dataframe\">\n",
       "  <thead>\n",
       "    <tr style=\"text-align: right;\">\n",
       "      <th></th>\n",
       "      <th>Node</th>\n",
       "      <th>Label</th>\n",
       "    </tr>\n",
       "  </thead>\n",
       "  <tbody>\n",
       "    <tr>\n",
       "      <th>0</th>\n",
       "      <td>N5767cb49e0b24f889edc26fb9cfc3e14</td>\n",
       "      <td>WP2261</td>\n",
       "    </tr>\n",
       "    <tr>\n",
       "      <th>1</th>\n",
       "      <td>N5767cb49e0b24f889edc26fb9cfc3e14</td>\n",
       "      <td>R-HSA-1169092</td>\n",
       "    </tr>\n",
       "    <tr>\n",
       "      <th>2</th>\n",
       "      <td>N5767cb49e0b24f889edc26fb9cfc3e14</td>\n",
       "      <td>R-HSA-5632927</td>\n",
       "    </tr>\n",
       "    <tr>\n",
       "      <th>3</th>\n",
       "      <td>N5767cb49e0b24f889edc26fb9cfc3e14</td>\n",
       "      <td>R-HSA-211163</td>\n",
       "    </tr>\n",
       "    <tr>\n",
       "      <th>4</th>\n",
       "      <td>N5767cb49e0b24f889edc26fb9cfc3e14</td>\n",
       "      <td>R-HSA-5632928</td>\n",
       "    </tr>\n",
       "    <tr>\n",
       "      <th>5</th>\n",
       "      <td>N5767cb49e0b24f889edc26fb9cfc3e14</td>\n",
       "      <td>R-HSA-111461</td>\n",
       "    </tr>\n",
       "    <tr>\n",
       "      <th>6</th>\n",
       "      <td>N5767cb49e0b24f889edc26fb9cfc3e14</td>\n",
       "      <td>R-HSA-2033519</td>\n",
       "    </tr>\n",
       "    <tr>\n",
       "      <th>7</th>\n",
       "      <td>N5767cb49e0b24f889edc26fb9cfc3e14</td>\n",
       "      <td>R-HSA-111452</td>\n",
       "    </tr>\n",
       "    <tr>\n",
       "      <th>8</th>\n",
       "      <td>N5767cb49e0b24f889edc26fb9cfc3e14</td>\n",
       "      <td>WP2828</td>\n",
       "    </tr>\n",
       "    <tr>\n",
       "      <th>9</th>\n",
       "      <td>N5767cb49e0b24f889edc26fb9cfc3e14</td>\n",
       "      <td>WP1971</td>\n",
       "    </tr>\n",
       "  </tbody>\n",
       "</table>\n",
       "</div>"
      ],
      "text/plain": [
       "                                Node          Label\n",
       "0  N5767cb49e0b24f889edc26fb9cfc3e14         WP2261\n",
       "1  N5767cb49e0b24f889edc26fb9cfc3e14  R-HSA-1169092\n",
       "2  N5767cb49e0b24f889edc26fb9cfc3e14  R-HSA-5632927\n",
       "3  N5767cb49e0b24f889edc26fb9cfc3e14   R-HSA-211163\n",
       "4  N5767cb49e0b24f889edc26fb9cfc3e14  R-HSA-5632928\n",
       "5  N5767cb49e0b24f889edc26fb9cfc3e14   R-HSA-111461\n",
       "6  N5767cb49e0b24f889edc26fb9cfc3e14  R-HSA-2033519\n",
       "7  N5767cb49e0b24f889edc26fb9cfc3e14   R-HSA-111452\n",
       "8  N5767cb49e0b24f889edc26fb9cfc3e14         WP2828\n",
       "9  N5767cb49e0b24f889edc26fb9cfc3e14         WP1971"
      ]
     },
     "execution_count": 17,
     "metadata": {},
     "output_type": "execute_result"
    }
   ],
   "source": [
    "query = \"\"\"\n",
    "\n",
    "SELECT ?node ?s_label\n",
    "WHERE {\n",
    "    ?node a cx:node ; \n",
    "        rdfs:label \"path:hsa05200\" .\n",
    "    \n",
    "    ?s ?p ?node .\n",
    "    ?p cx:edge_has_interaction \"isPartOf\" .\n",
    "    \n",
    "    ?s rdfs:label ?s_label   \n",
    "}\n",
    "\"\"\"\n",
    "\n",
    "result = rdf.query(query, initNs=init_ns)\n",
    "pd.DataFrame(list(result), columns=['Node', 'Label'])"
   ]
  }
 ],
 "metadata": {
  "kernelspec": {
   "display_name": "Python 3",
   "language": "python",
   "name": "python3"
  },
  "language_info": {
   "codemirror_mode": {
    "name": "ipython",
    "version": 3
   },
   "file_extension": ".py",
   "mimetype": "text/x-python",
   "name": "python",
   "nbconvert_exporter": "python",
   "pygments_lexer": "ipython3",
   "version": "3.6.5"
  }
 },
 "nbformat": 4,
 "nbformat_minor": 2
}
